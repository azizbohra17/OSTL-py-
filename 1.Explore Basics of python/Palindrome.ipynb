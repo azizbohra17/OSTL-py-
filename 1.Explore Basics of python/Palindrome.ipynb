{
 "cells": [
  {
   "cell_type": "code",
   "execution_count": 3,
   "metadata": {},
   "outputs": [
    {
     "name": "stdout",
     "output_type": "stream",
     "text": [
      "Enter a stringpole\n",
      "Not a Palindrome\n"
     ]
    }
   ],
   "source": [
    "def reverse(s): \n",
    "    return s[::-1] \n",
    "  \n",
    "def Palindrome(s):  \n",
    "    rev = reverse(s) \n",
    "\n",
    "    if (s == rev): \n",
    "        print(\"Palindrome\")\n",
    "    else:\n",
    "        print(\"Not a Palindrome\")\n",
    "   \n",
    "s = input(\"Enter a string\")\n",
    "Palindrome(s) \n",
    "  "
   ]
  },
  {
   "cell_type": "code",
   "execution_count": null,
   "metadata": {},
   "outputs": [],
   "source": []
  }
 ],
 "metadata": {
  "kernelspec": {
   "display_name": "Python 3",
   "language": "python",
   "name": "python3"
  },
  "language_info": {
   "codemirror_mode": {
    "name": "ipython",
    "version": 3
   },
   "file_extension": ".py",
   "mimetype": "text/x-python",
   "name": "python",
   "nbconvert_exporter": "python",
   "pygments_lexer": "ipython3",
   "version": "3.6.5"
  }
 },
 "nbformat": 4,
 "nbformat_minor": 2
}
