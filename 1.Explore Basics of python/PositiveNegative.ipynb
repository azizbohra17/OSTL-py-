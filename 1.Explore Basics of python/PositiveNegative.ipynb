{
 "cells": [
  {
   "cell_type": "code",
   "execution_count": 3,
   "metadata": {},
   "outputs": [
    {
     "name": "stdout",
     "output_type": "stream",
     "text": [
      "Enter 0 to terminate\n",
      "Enter the no1\n",
      "Enter the no-5\n",
      "Enter the no-6\n",
      "Enter the no7\n",
      "Enter the no0\n",
      "Positive nos. are 2\n",
      "Negative nos. are 2\n"
     ]
    }
   ],
   "source": [
    "print(\"Enter 0 to terminate\")\n",
    "a=int(input(\"Enter the no\"))\n",
    "p=0\n",
    "n=0\n",
    "while a!=0 :\n",
    "    if a>0:\n",
    "        p+=1\n",
    "    else:\n",
    "        n+=1\n",
    "    a=int(input(\"Enter the no\"))\n",
    "\n",
    "print(\"Positive nos. are \"+ str(p))\n",
    "print(\"Negative nos. are \"+ str(n))"
   ]
  },
  {
   "cell_type": "code",
   "execution_count": null,
   "metadata": {},
   "outputs": [],
   "source": []
  }
 ],
 "metadata": {
  "kernelspec": {
   "display_name": "Python 3",
   "language": "python",
   "name": "python3"
  },
  "language_info": {
   "codemirror_mode": {
    "name": "ipython",
    "version": 3
   },
   "file_extension": ".py",
   "mimetype": "text/x-python",
   "name": "python",
   "nbconvert_exporter": "python",
   "pygments_lexer": "ipython3",
   "version": "3.6.5"
  }
 },
 "nbformat": 4,
 "nbformat_minor": 2
}
