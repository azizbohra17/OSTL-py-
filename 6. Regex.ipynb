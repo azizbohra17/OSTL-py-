{
 "cells": [
  {
   "cell_type": "code",
   "execution_count": 1,
   "metadata": {},
   "outputs": [
    {
     "name": "stdout",
     "output_type": "stream",
     "text": [
      "No. succesfully validated\n",
      "Valid email\n"
     ]
    }
   ],
   "source": [
    "import re\n",
    "#s=\"abababaa\"\n",
    "#pattern=re.compile('ab')\n",
    "#matcher=pattern.finditer(s)\n",
    "#count=0\n",
    "#for match in matcher:\n",
    "#    count += 1\n",
    "#print (\"The count is \")\n",
    "#print (count)\n",
    "#    \n",
    "#print(type(matcher))\n",
    "\n",
    "\n",
    "#validation of Mobile No.\n",
    "def ValidateMob(no):\n",
    "    if len(no)!=13:\n",
    "        print(\"Invalid mobile no.\")\n",
    "        return False\n",
    "    m=re.search(\"[+91][7-9]\",no)\n",
    "    if m.start()==0:\n",
    "        print(\"No. succesfully validated\")\n",
    "    else :\n",
    "        print (\"Invalid no. for India\")\n",
    "        \n",
    "ValidateMob(\"+916869045476\")\n",
    "\n",
    "\n",
    "#validation of Email Id\n",
    "def ValidateEmail(email):\n",
    "    regex= '[a-z]+[0-9]*@[a-z]*[\\.][a-z]'\n",
    "    if re.search(regex,email):\n",
    "        print(\"Valid email\")\n",
    "    else :\n",
    "        print(\"Invalid\")\n",
    "\n",
    "email=\"abc.xyz@somaiya.edu\"\n",
    "ValidateEmail(email)"
   ]
  },
  {
   "cell_type": "code",
   "execution_count": null,
   "metadata": {},
   "outputs": [],
   "source": []
  }
 ],
 "metadata": {
  "kernelspec": {
   "display_name": "Python 3",
   "language": "python",
   "name": "python3"
  },
  "language_info": {
   "codemirror_mode": {
    "name": "ipython",
    "version": 3
   },
   "file_extension": ".py",
   "mimetype": "text/x-python",
   "name": "python",
   "nbconvert_exporter": "python",
   "pygments_lexer": "ipython3",
   "version": "3.6.5"
  }
 },
 "nbformat": 4,
 "nbformat_minor": 2
}
