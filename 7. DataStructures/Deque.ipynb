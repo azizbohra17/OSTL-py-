{
 "cells": [
  {
   "cell_type": "code",
   "execution_count": 1,
   "metadata": {},
   "outputs": [
    {
     "name": "stdout",
     "output_type": "stream",
     "text": [
      "Menu\n",
      "append <value>\n",
      "appendleft <value>\n",
      "pop\n",
      "popleft\n",
      "quit\n",
      "What would you like to do? append 5\n",
      "What would you like to do? appendleft 8\n",
      "What would you like to do? popleft\n",
      "Popped value from left:  8\n",
      "What would you like to do? pop\n",
      "Popped value from right:  5\n",
      "What would you like to do? quit\n"
     ]
    }
   ],
   "source": [
    "class Dequeue:\n",
    "    def __init__(self):\n",
    "        self.items = []\n",
    " \n",
    "    def is_empty(self):\n",
    "        return self.items == []\n",
    " \n",
    "    def append(self, data):\n",
    "        self.items.append(data)\n",
    " \n",
    "    def append_left(self, data):\n",
    "        self.items.insert(0, data)\n",
    " \n",
    "    def pop(self):\n",
    "        return self.items.pop()\n",
    " \n",
    "    def pop_left(self):\n",
    "        return self.items.pop(0)\n",
    " \n",
    " \n",
    "q = Dequeue()\n",
    "print('Menu')\n",
    "print('append <value>')\n",
    "print('appendleft <value>')\n",
    "print('pop')\n",
    "print('popleft')\n",
    "print('quit')\n",
    " \n",
    "while True:\n",
    "    do = input('What would you like to do? ').split()\n",
    " \n",
    "    operation = do[0].strip().lower()\n",
    "    if operation == 'append':\n",
    "        q.append(int(do[1]))\n",
    "    elif operation == 'appendleft':\n",
    "        q.append_left(int(do[1]))\n",
    "    elif operation == 'pop':\n",
    "        if q.is_empty():\n",
    "            print('Dequeue is empty.')\n",
    "        else:\n",
    "            print('Popped value from right: ', q.pop())\n",
    "    elif operation == 'popleft':\n",
    "        if q.is_empty():\n",
    "            print('Dequeue is empty.')\n",
    "        else:\n",
    "            print('Popped value from left: ', q.pop_left())\n",
    "    elif operation == 'quit':\n",
    "        break"
   ]
  },
  {
   "cell_type": "code",
   "execution_count": null,
   "metadata": {},
   "outputs": [],
   "source": []
  }
 ],
 "metadata": {
  "kernelspec": {
   "display_name": "Python 3",
   "language": "python",
   "name": "python3"
  },
  "language_info": {
   "codemirror_mode": {
    "name": "ipython",
    "version": 3
   },
   "file_extension": ".py",
   "mimetype": "text/x-python",
   "name": "python",
   "nbconvert_exporter": "python",
   "pygments_lexer": "ipython3",
   "version": "3.6.5"
  }
 },
 "nbformat": 4,
 "nbformat_minor": 2
}
