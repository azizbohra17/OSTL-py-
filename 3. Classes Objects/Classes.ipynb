{
 "cells": [
  {
   "cell_type": "code",
   "execution_count": 3,
   "metadata": {},
   "outputs": [
    {
     "name": "stdout",
     "output_type": "stream",
     "text": [
      "3\n",
      "Total Number of Employees = 4\n",
      "Name: SRK \n",
      "Designation: CEO \n",
      "Salary: 5000000000\n",
      "Name: Mota Bhai \n",
      "Designation: CEO \n",
      "Salary: 500000000\n",
      "Name: Narendra Modi \n",
      "Designation: CTO \n",
      "Salary: 5000000\n",
      "Name: LORd \n",
      "Designation: Team \n",
      "Salary: 50\n"
     ]
    }
   ],
   "source": [
    "class employee:\n",
    "    empcount = 0\n",
    "    def __init__(self, name, design, salary):\n",
    "        self.name = name\n",
    "        self.design = design\n",
    "        self.salary = salary\n",
    "        employee.empcount += 1\n",
    "        \n",
    "    def display(self):\n",
    "        print(\"Total Number of Employees = {}\".format(employee.empcount))\n",
    "        \n",
    "    def displayDetail(self):\n",
    "        print(\"Name: {} \\nDesignation: {} \\nSalary: {}\".format(self.name, self.design, self.salary))\n",
    "        \n",
    "    \n",
    "e1 = employee(\"SRK\", \"CEO\", 5000000000)\n",
    "e2 = employee(\"Mota Bhai\", \"CEO\", 500000000)\n",
    "e3 = employee(\"Narendra Modi\", \"CTO\", 5000000)\n",
    "print(e3.empcount)\n",
    "e4 = employee(\"LORd\", \"Team\", 50)\n",
    "\n",
    "\n",
    "e4.display()\n",
    "e1.displayDetail()\n",
    "e2.displayDetail()\n",
    "e3.displayDetail()\n",
    "e4.displayDetail()"
   ]
  },
  {
   "cell_type": "markdown",
   "metadata": {},
   "source": [
    "### Inheritance\n"
   ]
  },
  {
   "cell_type": "code",
   "execution_count": 6,
   "metadata": {},
   "outputs": [
    {
     "name": "stdout",
     "output_type": "stream",
     "text": [
      "Items\tPrice\n",
      "fries\t100\n",
      "banana\t150\n",
      "pasta\t200\n",
      "Paid in denominations of 500 Having Price : 500\n",
      "Items\tPrice\n",
      "fries\t100\n",
      "banana\t150\n",
      "pasta\t200\n",
      "Cheaque Number : 12541254\n"
     ]
    }
   ],
   "source": [
    "class Bill(object) :\n",
    "   \n",
    "    def __init__(self, items, price) :\n",
    "        self.amt = 0\n",
    "        self.items = items\n",
    "        self.price = price\n",
    "       \n",
    "        for i in price:\n",
    "            self.amt += i\n",
    "           \n",
    "    def display(self) :\n",
    "        print(\"Items\\tPrice\")\n",
    "        for i in range(0, len(self.items)) :\n",
    "            print(self.items[i] + \"\\t\" + str(self.price[i]))\n",
    "           \n",
    "class Cash(Bill) :\n",
    "    def __init__(self, items, price, denom, val) :\n",
    "        Bill.__init__(self, items, price)\n",
    "        self.denom = denom\n",
    "        self.val = val\n",
    "       \n",
    "    def display(self):\n",
    "        Bill.display(self)\n",
    "        print(\"Paid in denominations of \" + str(self.denom) + \" Having Price : \" + str(self.denom * self.val))\n",
    "       \n",
    "class Cheaque(Bill) :\n",
    "    def __init__(self, items, price, cno):\n",
    "        Bill.__init__(self, items, price)\n",
    "        self.cno = cno\n",
    "   \n",
    "    def display(self) :\n",
    "        Bill.display(self)\n",
    "        print(\"Cheaque Number : \" + str(self.cno))\n",
    "       \n",
    "items = ['fries', 'banana', 'pasta']\n",
    "value = [100, 150, 200]\n",
    "\n",
    "payment1 = Cash(items, value, 500, 1)\n",
    "payment2 = Cheaque(items, value, 12541254)\n",
    "\n",
    "payment1.display()\n",
    "payment2.display()\n"
   ]
  },
  {
   "cell_type": "code",
   "execution_count": null,
   "metadata": {},
   "outputs": [],
   "source": []
  }
 ],
 "metadata": {
  "kernelspec": {
   "display_name": "Python 3",
   "language": "python",
   "name": "python3"
  },
  "language_info": {
   "codemirror_mode": {
    "name": "ipython",
    "version": 3
   },
   "file_extension": ".py",
   "mimetype": "text/x-python",
   "name": "python",
   "nbconvert_exporter": "python",
   "pygments_lexer": "ipython3",
   "version": "3.6.5"
  }
 },
 "nbformat": 4,
 "nbformat_minor": 2
}
