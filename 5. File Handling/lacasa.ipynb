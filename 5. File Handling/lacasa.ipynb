{
 "cells": [
  {
   "cell_type": "code",
   "execution_count": 16,
   "metadata": {},
   "outputs": [
    {
     "name": "stdout",
     "output_type": "stream",
     "text": [
      "C:\\lacasa\n",
      "False\n",
      "False\n",
      "False\n"
     ]
    }
   ],
   "source": [
    "import os\n",
    "\n",
    "os.mkdir(\"LACASA\")\n",
    "os.rename(\"LACASA\",\"lacasa\")\n",
    "os.chdir(\"lacasa\")\n",
    "\n",
    "print(os.getcwd())\n",
    "\n",
    "os.chdir(r\"C:\\Users\")\n",
    "\n",
    "print(os.path.exists(\"\"))\n",
    "print(os.path.isfile(\"file.txt\"))\n",
    "print(os.path.isdir(\"lacasa\"))"
   ]
  },
  {
   "cell_type": "code",
   "execution_count": null,
   "metadata": {},
   "outputs": [],
   "source": []
  }
 ],
 "metadata": {
  "kernelspec": {
   "display_name": "Python 3",
   "language": "python",
   "name": "python3"
  },
  "language_info": {
   "codemirror_mode": {
    "name": "ipython",
    "version": 3
   },
   "file_extension": ".py",
   "mimetype": "text/x-python",
   "name": "python",
   "nbconvert_exporter": "python",
   "pygments_lexer": "ipython3",
   "version": "3.6.5"
  }
 },
 "nbformat": 4,
 "nbformat_minor": 2
}
