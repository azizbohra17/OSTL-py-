{
 "cells": [
  {
   "cell_type": "code",
   "execution_count": 1,
   "metadata": {},
   "outputs": [
    {
     "name": "stdout",
     "output_type": "stream",
     "text": [
      "Number of lines : 1\n",
      "Number of words : 6\n",
      "Number of letters : 36\n"
     ]
    }
   ],
   "source": [
    "f = open(\"abc.txt\",\"r\")\n",
    "l = w = c =  0\n",
    "for a in f:\n",
    " l = l+1\n",
    " words = a.split()\n",
    " w = w+len(words)\n",
    " c = c+len(a)\n",
    "\n",
    "print(\"Number of lines :\",l)\n",
    "print(\"Number of words :\",w)\n",
    "print(\"Number of letters :\",c)"
   ]
  },
  {
   "cell_type": "code",
   "execution_count": null,
   "metadata": {},
   "outputs": [],
   "source": []
  }
 ],
 "metadata": {
  "kernelspec": {
   "display_name": "Python 3",
   "language": "python",
   "name": "python3"
  },
  "language_info": {
   "codemirror_mode": {
    "name": "ipython",
    "version": 3
   },
   "file_extension": ".py",
   "mimetype": "text/x-python",
   "name": "python",
   "nbconvert_exporter": "python",
   "pygments_lexer": "ipython3",
   "version": "3.6.5"
  }
 },
 "nbformat": 4,
 "nbformat_minor": 2
}
