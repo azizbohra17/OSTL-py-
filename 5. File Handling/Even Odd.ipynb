{
 "cells": [
  {
   "cell_type": "code",
   "execution_count": 1,
   "metadata": {},
   "outputs": [],
   "source": [
    "f = open(\"file.txt\",\"r\")\n",
    "f1 = open(\"even.txt\",\"w\")\n",
    "f2 = open(\"odd.txt\",\"w\")\n",
    "for a in f:\n",
    " numbers = a.split()\n",
    "for s in numbers:\n",
    "  if int(s)%2 == 0:\n",
    "   f1.write(s+\" \")\n",
    "  else :\n",
    "   f2.write(s+\" \")"
   ]
  },
  {
   "cell_type": "code",
   "execution_count": null,
   "metadata": {},
   "outputs": [],
   "source": []
  }
 ],
 "metadata": {
  "kernelspec": {
   "display_name": "Python 3",
   "language": "python",
   "name": "python3"
  },
  "language_info": {
   "codemirror_mode": {
    "name": "ipython",
    "version": 3
   },
   "file_extension": ".py",
   "mimetype": "text/x-python",
   "name": "python",
   "nbconvert_exporter": "python",
   "pygments_lexer": "ipython3",
   "version": "3.6.5"
  }
 },
 "nbformat": 4,
 "nbformat_minor": 2
}
