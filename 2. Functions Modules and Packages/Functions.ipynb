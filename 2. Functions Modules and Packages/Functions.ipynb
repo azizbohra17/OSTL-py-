{
 "cells": [
  {
   "cell_type": "markdown",
   "metadata": {},
   "source": [
    "### Factorial (recursive functions)"
   ]
  },
  {
   "cell_type": "code",
   "execution_count": 5,
   "metadata": {},
   "outputs": [
    {
     "name": "stdout",
     "output_type": "stream",
     "text": [
      "120\n"
     ]
    }
   ],
   "source": [
    "def fact(n):\n",
    "    if n <= 1:\n",
    "        return 1\n",
    "    else:    \n",
    "        return n*fact(n-1)\n",
    "\n",
    "f=fact(5)\n",
    "print(str(f))"
   ]
  },
  {
   "cell_type": "markdown",
   "metadata": {},
   "source": [
    "### Functions "
   ]
  },
  {
   "cell_type": "code",
   "execution_count": 6,
   "metadata": {},
   "outputs": [
    {
     "name": "stdout",
     "output_type": "stream",
     "text": [
      "Enter a stringmadam\n",
      "Palindrome\n"
     ]
    }
   ],
   "source": [
    "def reverse(s): \n",
    "    return s[::-1] \n",
    "  \n",
    "def Palindrome(s):  \n",
    "    rev = reverse(s) \n",
    "\n",
    "    if (s == rev): \n",
    "        print(\"Palindrome\")\n",
    "    else:\n",
    "        print(\"Not a Palindrome\")\n",
    "   \n",
    "s = input(\"Enter a string\")\n",
    "Palindrome(s) "
   ]
  },
  {
   "cell_type": "code",
   "execution_count": null,
   "metadata": {},
   "outputs": [],
   "source": []
  }
 ],
 "metadata": {
  "kernelspec": {
   "display_name": "Python 3",
   "language": "python",
   "name": "python3"
  },
  "language_info": {
   "codemirror_mode": {
    "name": "ipython",
    "version": 3
   },
   "file_extension": ".py",
   "mimetype": "text/x-python",
   "name": "python",
   "nbconvert_exporter": "python",
   "pygments_lexer": "ipython3",
   "version": "3.6.5"
  }
 },
 "nbformat": 4,
 "nbformat_minor": 2
}
