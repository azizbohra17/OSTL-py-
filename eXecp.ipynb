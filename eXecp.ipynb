{
 "cells": [
  {
   "cell_type": "code",
   "execution_count": 1,
   "metadata": {},
   "outputs": [
    {
     "name": "stdout",
     "output_type": "stream",
     "text": [
      "Guess The No.4\n",
      "value is small\n",
      "Guess The No.8\n",
      "value is large\n",
      "Guess The No.7\n",
      "You guessed the right No.\n"
     ]
    }
   ],
   "source": [
    "class Small(Exception):\n",
    "    def display(self):\n",
    "        print(\"value is small\")\n",
    "class Large(Exception):\n",
    "    def display(self):\n",
    "        print(\"value is large\")\n",
    "max=7\n",
    "\n",
    "while True:\n",
    "    num=int(input(\"Guess The No.\"))\n",
    "    try:\n",
    "        if(num==max):\n",
    "            print(\"You guessed the right No.\")\n",
    "            break\n",
    "        elif(num>max):\n",
    "            raise Large\n",
    "        else:\n",
    "            raise Small\n",
    "    except Large as l:\n",
    "        l.display()\n",
    "    except Small as s:\n",
    "        s.display()\n",
    "        \n",
    "        "
   ]
  },
  {
   "cell_type": "code",
   "execution_count": null,
   "metadata": {},
   "outputs": [],
   "source": []
  }
 ],
 "metadata": {
  "kernelspec": {
   "display_name": "Python 3",
   "language": "python",
   "name": "python3"
  },
  "language_info": {
   "codemirror_mode": {
    "name": "ipython",
    "version": 3
   },
   "file_extension": ".py",
   "mimetype": "text/x-python",
   "name": "python",
   "nbconvert_exporter": "python",
   "pygments_lexer": "ipython3",
   "version": "3.6.5"
  }
 },
 "nbformat": 4,
 "nbformat_minor": 2
}
